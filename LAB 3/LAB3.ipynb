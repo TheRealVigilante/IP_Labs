{
 "cells": [
  {
   "cell_type": "code",
   "execution_count": null,
   "id": "initial_id",
   "metadata": {
    "collapsed": true
   },
   "outputs": [],
   "source": [
    ""
   ]
  },
  {
   "metadata": {
    "ExecuteTime": {
     "end_time": "2024-09-17T10:10:27.499967Z",
     "start_time": "2024-09-17T10:10:27.110374Z"
    }
   },
   "cell_type": "code",
   "source": [
    "import numpy as np\n",
    "import matplotlib.pyplot as plt\n",
    "from skimage import io\n",
    "\n",
    "def salt_pepper_noise(image, salt=0.1, pepper=0.1):\n",
    "    output = np.zeros(image.shape, np.uint8)\n",
    "    thres = 1 - salt - pepper\n",
    "    for i in range(image.shape[0]):\n",
    "        for j in range(image.shape[1]):\n",
    "            rdn = np.random.random()\n",
    "            if rdn < salt:\n",
    "                output[i][j] = 0\n",
    "            elif rdn > thres:\n",
    "                output[i][j] = 255\n",
    "            else:\n",
    "                output[i][j] = image[i][j]\n",
    "    return output\n",
    "\n",
    "def median_filter(image, size):\n",
    "    temp = []\n",
    "    indexer = size // 2\n",
    "    image_final = np.zeros(image.shape)\n",
    "    for i in range(image.shape[0]):\n",
    "        for j in range(image.shape[1]):\n",
    "            for z in range(size):\n",
    "                if i + z - indexer < 0 or i + z - indexer > image.shape[0] - 1:\n",
    "                    for c in range(size):\n",
    "                        temp.append(0)\n",
    "                else:\n",
    "                    if j + z - indexer < 0 or j + indexer > image.shape[1] - 1:\n",
    "                        temp.append(0)\n",
    "                    else:\n",
    "                        for k in range(size):\n",
    "                            temp.append(image[i + z - indexer][j + k - indexer])\n",
    "            temp.sort()\n",
    "            image_final[i][j] = temp[len(temp) // 2]\n",
    "            temp = []\n",
    "    return image_final\n",
    "\n",
    "def main():\n",
    "    img = io.imread('image.png')\n",
    "    noise_img = salt_pepper_noise(img)\n",
    "    median = median_filter(noise_img, 3)\n",
    "    io.imshow(noise_img)\n",
    "    io.show()\n",
    "    \n",
    "main()"
   ],
   "id": "cb1a6d8fd4cf8d79",
   "outputs": [
    {
     "ename": "ValueError",
     "evalue": "The truth value of an array with more than one element is ambiguous. Use a.any() or a.all()",
     "output_type": "error",
     "traceback": [
      "\u001B[1;31m---------------------------------------------------------------------------\u001B[0m",
      "\u001B[1;31mValueError\u001B[0m                                Traceback (most recent call last)",
      "Cell \u001B[1;32mIn[2], line 47\u001B[0m\n\u001B[0;32m     44\u001B[0m     io\u001B[38;5;241m.\u001B[39mimshow(noise_img)\n\u001B[0;32m     45\u001B[0m     io\u001B[38;5;241m.\u001B[39mshow()\n\u001B[1;32m---> 47\u001B[0m main()\n",
      "Cell \u001B[1;32mIn[2], line 43\u001B[0m, in \u001B[0;36mmain\u001B[1;34m()\u001B[0m\n\u001B[0;32m     41\u001B[0m img \u001B[38;5;241m=\u001B[39m io\u001B[38;5;241m.\u001B[39mimread(\u001B[38;5;124m'\u001B[39m\u001B[38;5;124mimage.png\u001B[39m\u001B[38;5;124m'\u001B[39m)\n\u001B[0;32m     42\u001B[0m noise_img \u001B[38;5;241m=\u001B[39m salt_pepper_noise(img)\n\u001B[1;32m---> 43\u001B[0m median \u001B[38;5;241m=\u001B[39m median_filter(noise_img, \u001B[38;5;241m3\u001B[39m)\n\u001B[0;32m     44\u001B[0m io\u001B[38;5;241m.\u001B[39mimshow(noise_img)\n\u001B[0;32m     45\u001B[0m io\u001B[38;5;241m.\u001B[39mshow()\n",
      "Cell \u001B[1;32mIn[2], line 35\u001B[0m, in \u001B[0;36mmedian_filter\u001B[1;34m(image, size)\u001B[0m\n\u001B[0;32m     33\u001B[0m             \u001B[38;5;28;01mfor\u001B[39;00m k \u001B[38;5;129;01min\u001B[39;00m \u001B[38;5;28mrange\u001B[39m(size):\n\u001B[0;32m     34\u001B[0m                 temp\u001B[38;5;241m.\u001B[39mappend(image[i \u001B[38;5;241m+\u001B[39m z \u001B[38;5;241m-\u001B[39m indexer][j \u001B[38;5;241m+\u001B[39m k \u001B[38;5;241m-\u001B[39m indexer])\n\u001B[1;32m---> 35\u001B[0m temp\u001B[38;5;241m.\u001B[39msort()\n\u001B[0;32m     36\u001B[0m image_final[i][j] \u001B[38;5;241m=\u001B[39m temp[\u001B[38;5;28mlen\u001B[39m(temp) \u001B[38;5;241m/\u001B[39m\u001B[38;5;241m/\u001B[39m \u001B[38;5;241m2\u001B[39m]\n\u001B[0;32m     37\u001B[0m temp \u001B[38;5;241m=\u001B[39m []\n",
      "\u001B[1;31mValueError\u001B[0m: The truth value of an array with more than one element is ambiguous. Use a.any() or a.all()"
     ]
    }
   ],
   "execution_count": 2
  },
  {
   "metadata": {},
   "cell_type": "code",
   "outputs": [],
   "execution_count": null,
   "source": "",
   "id": "598b8f0bf0a0e8c3"
  }
 ],
 "metadata": {
  "kernelspec": {
   "display_name": "Python 3",
   "language": "python",
   "name": "python3"
  },
  "language_info": {
   "codemirror_mode": {
    "name": "ipython",
    "version": 2
   },
   "file_extension": ".py",
   "mimetype": "text/x-python",
   "name": "python",
   "nbconvert_exporter": "python",
   "pygments_lexer": "ipython2",
   "version": "2.7.6"
  }
 },
 "nbformat": 4,
 "nbformat_minor": 5
}
